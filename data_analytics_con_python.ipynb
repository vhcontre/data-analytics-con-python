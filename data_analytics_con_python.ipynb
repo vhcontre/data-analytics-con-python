{
  "nbformat": 4,
  "nbformat_minor": 0,
  "metadata": {
    "colab": {
      "provenance": [],
      "toc_visible": true,
      "authorship_tag": "ABX9TyM8UJdPW0HeT6ecbNQUh+Gi",
      "include_colab_link": true
    },
    "kernelspec": {
      "name": "python3",
      "display_name": "Python 3"
    },
    "language_info": {
      "name": "python"
    }
  },
  "cells": [
    {
      "cell_type": "markdown",
      "metadata": {
        "id": "view-in-github",
        "colab_type": "text"
      },
      "source": [
        "<a href=\"https://colab.research.google.com/github/vhcontre/data-analytics-con-python/blob/main/data_analytics_con_python.ipynb\" target=\"_parent\"><img src=\"https://colab.research.google.com/assets/colab-badge.svg\" alt=\"Open In Colab\"/></a>"
      ]
    },
    {
      "cell_type": "markdown",
      "source": [
        "# Clase 1"
      ],
      "metadata": {
        "id": "rmpMY0eULZCF"
      }
    },
    {
      "cell_type": "code",
      "source": [
        "# Primer script de Python para análisis de datos - Semana 1\n",
        "\n",
        "# 1. Declaración de variables\n",
        "nombre = \"Victor Hugo\"\n",
        "edad = 52\n",
        "altura = 1.73\n",
        "estudiante = False\n",
        "\n",
        "# 2. Operaciones básicas\n",
        "suma = edad + 5\n",
        "multiplicacion = altura * 2\n",
        "mensaje = f\"Hola {nombre}, en 5 años tendrás {suma} años y el doble de tu altura sería {multiplicacion} m.\"\n",
        "\n",
        "# 3. Estructuras de control\n",
        "if estudiante:\n",
        "    estado = \"¡Eres un estudiante aplicado! 💪\"\n",
        "else:\n",
        "    estado = \"Necesitas ponerte las pilas 😅\"\n",
        "\n",
        "# 4. Bucles\n",
        "print(\"Vamos a contar del 1 al 5:\")\n",
        "for i in range(1, 6):\n",
        "    print(i)\n",
        "\n",
        "# 5. Mostrar resultados\n",
        "print(mensaje)\n",
        "print(estado)\n"
      ],
      "metadata": {
        "colab": {
          "base_uri": "https://localhost:8080/"
        },
        "id": "faWCTS1iGIJE",
        "outputId": "ee6339df-5c13-48d3-e33b-384c8955a4b3"
      },
      "execution_count": 8,
      "outputs": [
        {
          "output_type": "stream",
          "name": "stdout",
          "text": [
            "Vamos a contar del 1 al 5:\n",
            "1\n",
            "2\n",
            "3\n",
            "4\n",
            "5\n",
            "Hola Victor Hugo, en 5 años tendrás 57 años y el doble de tu altura sería 3.46 m.\n",
            "Necesitas ponerte las pilas 😅\n"
          ]
        }
      ]
    },
    {
      "cell_type": "markdown",
      "source": [
        "# Clase 2"
      ],
      "metadata": {
        "id": "N_Bzap1NLfbS"
      }
    },
    {
      "cell_type": "code",
      "source": [],
      "metadata": {
        "id": "B6WgLb0zMPX3"
      },
      "execution_count": null,
      "outputs": []
    }
  ]
}