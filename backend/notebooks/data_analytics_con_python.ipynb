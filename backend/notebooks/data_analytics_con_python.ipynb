{
  "nbformat": 4,
  "nbformat_minor": 0,
  "metadata": {
    "colab": {
      "provenance": [],
      "toc_visible": true,
      "authorship_tag": "ABX9TyMaC/NrVLS2x0BCyVQlWbUp",
      "include_colab_link": true
    },
    "kernelspec": {
      "name": "python3",
      "display_name": "Python 3"
    },
    "language_info": {
      "name": "python"
    }
  },
  "cells": [
    {
      "cell_type": "markdown",
      "metadata": {
        "id": "view-in-github",
        "colab_type": "text"
      },
      "source": [
        "<a href=\"https://colab.research.google.com/github/vhcontre/data-analytics-con-python/blob/main/data_analytics_con_python.ipynb\" target=\"_parent\"><img src=\"https://colab.research.google.com/assets/colab-badge.svg\" alt=\"Open In Colab\"/></a>"
      ]
    },
    {
      "cell_type": "markdown",
      "source": [
        "# Clase 1"
      ],
      "metadata": {
        "id": "rmpMY0eULZCF"
      }
    },
    {
      "cell_type": "code",
      "source": [
        "# Primer script de Python para análisis de datos - Semana 1\n",
        "\n",
        "# 1. Declaración de variables\n",
        "nombre = \"Victor Hugo\"\n",
        "edad = 52\n",
        "altura = 1.73\n",
        "estudiante = False\n",
        "\n",
        "# 2. Operaciones básicas\n",
        "suma = edad + 5\n",
        "multiplicacion = altura * 2\n",
        "mensaje = f\"Hola {nombre}, en 5 años tendrás {suma} años y el doble de tu altura sería {multiplicacion} m.\"\n",
        "\n",
        "# 3. Estructuras de control\n",
        "if estudiante:\n",
        "    estado = \"¡Eres un estudiante aplicado! 💪\"\n",
        "else:\n",
        "    estado = \"Necesitas ponerte las pilas 😅\"\n",
        "\n",
        "# 4. Bucles\n",
        "print(\"Vamos a contar del 1 al 5:\")\n",
        "for i in range(1, 6):\n",
        "    print(i)\n",
        "\n",
        "# 5. Mostrar resultados\n",
        "print(mensaje)\n",
        "print(estado)\n"
      ],
      "metadata": {
        "colab": {
          "base_uri": "https://localhost:8080/"
        },
        "id": "faWCTS1iGIJE",
        "outputId": "ee6339df-5c13-48d3-e33b-384c8955a4b3"
      },
      "execution_count": 8,
      "outputs": [
        {
          "output_type": "stream",
          "name": "stdout",
          "text": [
            "Vamos a contar del 1 al 5:\n",
            "1\n",
            "2\n",
            "3\n",
            "4\n",
            "5\n",
            "Hola Victor Hugo, en 5 años tendrás 57 años y el doble de tu altura sería 3.46 m.\n",
            "Necesitas ponerte las pilas 😅\n"
          ]
        }
      ]
    },
    {
      "cell_type": "markdown",
      "source": [
        "# Clase 2"
      ],
      "metadata": {
        "id": "N_Bzap1NLfbS"
      }
    },
    {
      "cell_type": "code",
      "source": [
        "# Inicializamos la variable\n",
        "contador = 1\n",
        "suma = 0\n",
        "\n",
        "# Usamos WHILE mientras contador sea menor o igual a 5\n",
        "while contador <= 5:\n",
        "    suma += contador\n",
        "    print(\"Sumando:\", contador, \"Suma parcial:\", suma)\n",
        "    contador += 1\n",
        "\n",
        "print(\"Suma total:\", suma)"
      ],
      "metadata": {
        "colab": {
          "base_uri": "https://localhost:8080/"
        },
        "id": "B6WgLb0zMPX3",
        "outputId": "1d1d4cca-1056-44d6-a763-ea702cf61c7a"
      },
      "execution_count": 11,
      "outputs": [
        {
          "output_type": "stream",
          "name": "stdout",
          "text": [
            "Sumando: 1 Suma parcial: 1\n",
            "Sumando: 2 Suma parcial: 3\n",
            "Sumando: 3 Suma parcial: 6\n",
            "Sumando: 4 Suma parcial: 10\n",
            "Sumando: 5 Suma parcial: 15\n",
            "Suma total: 15\n"
          ]
        }
      ]
    }
  ]
}