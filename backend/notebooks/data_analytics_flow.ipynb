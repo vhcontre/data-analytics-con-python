{
 "cells": [
  {
   "cell_type": "markdown",
   "id": "86a03cb2",
   "metadata": {},
   "source": [
    "# Data Analytics: flujo end-to-end\n",
    "\n",
    "> Este notebook orquesta el pipeline completo: generar dataset sintético, verificar integridad, calcular métricas, análisis exploratorio y visualizar resultados.\n",
    "\n",
    "## Pasos\n",
    "1. Setup de rutas y entorno (Python >= 3.11 con numpy/pandas).\n",
    "2. Generar el dataset si no existe (CSV en `backend/data/datasets`).\n",
    "3. Chequear integridad del dataset (salida por consola).\n",
    "4. Calcular métricas y guardar JSON en `backend/reports/product_metrics.json`.\n",
    "5. Análisis exploratorio y guardar JSON en `backend/reports/exploratory_summary.json`.\n",
    "6. Visualizaciones rápidas con Plotly.\n",
    "\n",
    "Consejo: ejecutá las celdas de arriba hacia abajo. Si cambiás el entorno, reiniciá el kernel y volvés a ejecutar."
   ]
  },
  {
   "cell_type": "code",
   "execution_count": null,
   "id": "5ca9dabd",
   "metadata": {},
   "outputs": [],
   "source": [
    "# Notebook setup: imports and robust path resolution\n",
    "import sys\n",
    "from pathlib import Path\n",
    "import json\n",
    "\n",
    "# Resolve backend root so 'app' package is importable and paths are correct\n",
    "CWD = Path.cwd()\n",
    "candidates = [CWD, CWD.parent, CWD.parent.parent]\n",
    "BACKEND_ROOT = None\n",
    "for base in candidates:\n",
    "    if (base / \"app\").exists():  # only require 'app'\n",
    "        BACKEND_ROOT = base\n",
    "        break\n",
    "if BACKEND_ROOT is None:\n",
    "    BACKEND_ROOT = CWD  # fallback\n",
    "\n",
    "if str(BACKEND_ROOT) not in sys.path:\n",
    "    sys.path.insert(0, str(BACKEND_ROOT))\n",
    "\n",
    "DATASETS_DIR = BACKEND_ROOT / \"datasets\"\n",
    "REPORTS_DIR = BACKEND_ROOT / \"reports\"\n",
    "DATASETS_DIR.mkdir(parents=True, exist_ok=True)\n",
    "REPORTS_DIR.mkdir(parents=True, exist_ok=True)\n",
    "CSV_PATH = DATASETS_DIR / \"product_dataset.csv\"\n",
    "\n",
    "print(f\"BACKEND_ROOT: {BACKEND_ROOT}\")\n",
    "print(f\"CSV_PATH: {CSV_PATH}\")"
   ]
  },
  {
   "cell_type": "code",
   "execution_count": null,
   "id": "f0061afe",
   "metadata": {},
   "outputs": [],
   "source": [
    "# 0) Verificación rápida de entorno y versiones\n",
    "import sys as _sys\n",
    "import importlib\n",
    "\n",
    "missing = []\n",
    "\n",
    "def _try_import(mod):\n",
    "    try:\n",
    "        m = importlib.import_module(mod)\n",
    "        print(f\"{mod}=={getattr(m, '__version__', 'unknown')}\")\n",
    "        return True\n",
    "    except Exception as e:\n",
    "        print(f\"Falta o falla {mod}: {e}\")\n",
    "        missing.append(mod)\n",
    "        return False\n",
    "\n",
    "mods = [\"numpy\", \"pandas\", \"plotly\"]\n",
    "_ = [ _try_import(m) for m in mods ]\n",
    "print(f\"Python: {_sys.version}\")\n",
    "\n",
    "if missing:\n",
    "    print(\"\\nSugerencia: instalá paquetes faltantes en tu entorno activo (PowerShell):\")\n",
    "    print(\"  .\\\\.venv\\\\Scripts\\\\Activate.ps1  # si usás venv\")\n",
    "    print(\"  pip install -r backend/requirements.txt\")"
   ]
  },
  {
   "cell_type": "code",
   "execution_count": null,
   "id": "cfd818eb",
   "metadata": {},
   "outputs": [],
   "source": [
    "# 1) Generar dataset (idempotente) y cargarlo\n",
    "import pandas as pd\n",
    "from app.scripts.create_product_dataset import main as gen_main\n",
    "\n",
    "# Generar solo si no existe\n",
    "if not CSV_PATH.exists():\n",
    "    _ = gen_main([\"--num-samples\", \"200\", \"--seed\", \"42\", \"--out\", str(CSV_PATH)])\n",
    "\n",
    "# Cargar dataset\n",
    "df = pd.read_csv(CSV_PATH)\n",
    "df.head()"
   ]
  },
  {
   "cell_type": "code",
   "execution_count": null,
   "id": "16b5d6b0",
   "metadata": {},
   "outputs": [],
   "source": [
    "# 2) Verificar integridad (modo no estricto para continuar el flujo)\n",
    "from app.scripts.check_dataset_integrity import main as chk_main\n",
    "\n",
    "exit_code = chk_main([\"--path\", str(CSV_PATH)])\n",
    "print(\"Integrity check exit code:\", exit_code)"
   ]
  },
  {
   "cell_type": "code",
   "execution_count": null,
   "id": "c898089d",
   "metadata": {},
   "outputs": [],
   "source": [
    "# 3) Calcular métricas y guardar JSON\n",
    "from app.scripts.calculate_product_metrics import main as met_main\n",
    "\n",
    "REPORTS_DIR.mkdir(parents=True, exist_ok=True)\n",
    "metrics_path = REPORTS_DIR / \"metrics.json\"\n",
    "_ = met_main([\"--path\", str(CSV_PATH), \"--json-out\", str(metrics_path)])\n",
    "\n",
    "import json\n",
    "metrics = json.loads(metrics_path.read_text(encoding=\"utf-8\"))\n",
    "metrics"
   ]
  },
  {
   "cell_type": "code",
   "execution_count": null,
   "id": "143676d6",
   "metadata": {},
   "outputs": [],
   "source": [
    "# 4) Análisis exploratorio y guardar JSON\n",
    "from app.scripts.exploratory_analysis import main as exp_main\n",
    "\n",
    "expl_summary_path = REPORTS_DIR / \"exploratory_summary.json\"\n",
    "_ = exp_main([\"--path\", str(CSV_PATH), \"--json-out\", str(expl_summary_path)])\n",
    "\n",
    "summary = json.loads(expl_summary_path.read_text(encoding=\"utf-8\"))\n",
    "summary"
   ]
  },
  {
   "cell_type": "code",
   "execution_count": null,
   "id": "b6e64b4e",
   "metadata": {},
   "outputs": [],
   "source": [
    "# 5) Visualizaciones con Plotly\n",
    "import plotly.express as px\n",
    "\n",
    "# Conteo por categoría\n",
    "if \"Category\" in df.columns:\n",
    "    counts = df[\"Category\"].value_counts(dropna=False).reset_index()\n",
    "    counts.columns = [\"Category\", \"count\"]\n",
    "    fig1 = px.bar(counts, x=\"Category\", y=\"count\", title=\"Conteo de productos por categoría\")\n",
    "    fig1.show()\n",
    "\n",
    "# Promedios globales\n",
    "avg_df = pd.DataFrame([\n",
    "    {\"metric\": \"BaseYield\", \"value\": metrics.get(\"average_base_yield\")},\n",
    "    {\"metric\": \"Cost\", \"value\": metrics.get(\"total_cost\")},\n",
    "    {\"metric\": \"EnvironmentalImpact\", \"value\": metrics.get(\"average_environmental_impact\")},\n",
    "])\n",
    "avg_df = avg_df.dropna()\n",
    "if not avg_df.empty:\n",
    "    fig2 = px.bar(avg_df, x=\"metric\", y=\"value\", title=\"Métricas globales\")\n",
    "    fig2.show()"
   ]
  }
 ],
 "metadata": {
  "kernelspec": {
   "display_name": ".venv",
   "language": "python",
   "name": "python3"
  },
  "language_info": {
   "codemirror_mode": {
    "name": "ipython",
    "version": 3
   },
   "file_extension": ".py",
   "mimetype": "text/x-python",
   "name": "python",
   "nbconvert_exporter": "python",
   "pygments_lexer": "ipython3",
   "version": "3.11.9"
  }
 },
 "nbformat": 4,
 "nbformat_minor": 5
}
