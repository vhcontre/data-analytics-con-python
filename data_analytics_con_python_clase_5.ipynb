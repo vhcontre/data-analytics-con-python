{
  "nbformat": 4,
  "nbformat_minor": 0,
  "metadata": {
    "colab": {
      "provenance": [],
      "include_colab_link": true
    },
    "kernelspec": {
      "name": "python3",
      "display_name": "Python 3"
    },
    "language_info": {
      "name": "python"
    }
  },
  "cells": [
    {
      "cell_type": "markdown",
      "metadata": {
        "id": "view-in-github",
        "colab_type": "text"
      },
      "source": [
        "<a href=\"https://colab.research.google.com/github/vhcontre/data-analytics-con-python/blob/main/data_analytics_con_python_clase_5.ipynb\" target=\"_parent\"><img src=\"https://colab.research.google.com/assets/colab-badge.svg\" alt=\"Open In Colab\"/></a>"
      ]
    },
    {
      "cell_type": "markdown",
      "source": [
        "# Víctor H\n",
        "\n",
        "Hola! Soy Victor, y me encanta aprender Data Analytics con Python. Aquí van algunas cosas sobre mí:\n",
        "\n",
        "**Fortalezas:**\n",
        "- Trabajo en proyectos de software\n",
        "- Me gusta aprender cosas nuevas\n",
        "- Disfruto organizar y planificar\n",
        "\n",
        "*Recuerden siempre*: la práctica hace al maestro.\n",
        "\n",
        "Documentación oficial de Python: [Python Docs](https://docs.python.org/3/)\n",
        "\n",
        "\n",
        "> “El conocimiento es poder, pero la sabiduría es aplicarlo.”\n"
      ],
      "metadata": {
        "id": "XcUr3vbtvq3V"
      }
    },
    {
      "cell_type": "markdown",
      "source": [
        "# ©️ Clase 5\n"
      ],
      "metadata": {
        "id": "o0OQ3pMEkYPc"
      }
    },
    {
      "cell_type": "markdown",
      "source": [
        "## Actividad 1: Eliminación de Duplicados y Tratamiento de Datos Faltantes\n",
        "\n",
        "- Cargar el conjunto de datos.\n",
        "- Identificar y eliminar las filas duplicadas: Usarás técnicas específicas para encontrar y eliminar cualquier registro duplicado que pueda afectar la calidad de tu análisis. No olvides escribir un reporte de los hallazgos y modificaciones.\n",
        "- Manejar los datos faltantes en la columna de edad, evaluando cuál es la mejor decisión, considerando que vamos a realizar un análisis enfocado en grupos etarios de los clientes. **Evaluar el impacto sobre el análisis si**:\n",
        "   - Se eliminan las filas que no contienen la edad.\n",
        "   - Se completa el dato con la media de la columna."
      ],
      "metadata": {
        "id": "RB-4BQdLcdiJ"
      }
    },
    {
      "cell_type": "code",
      "source": [
        "import pandas as pd\n",
        "from google.colab import files\n",
        "\n",
        "# ===== 1. Subir archivo Excel =====\n",
        "uploaded = files.upload()\n",
        "nombre_archivo = list(uploaded.keys())[0]\n",
        "\n",
        "# ===== 2. Cargar Excel en DataFrame =====\n",
        "df = pd.read_excel(nombre_archivo, engine='openpyxl')\n",
        "\n",
        "# ===== Configuraciones para que se vea bonito =====\n",
        "pd.set_option('display.float_format', '{:.2f}'.format)  # dos decimales\n",
        "pd.set_option('display.max_colwidth', 25)\n",
        "pd.set_option('display.width', 1000)\n",
        "\n",
        "# ===== 3. Exploración inicial =====\n",
        "print(\"=== Primeras filas del dataset ===\")\n",
        "display(df.head())\n",
        "\n",
        "print(\"\\n=== Últimas filas del dataset ===\")\n",
        "display(df.tail())\n",
        "\n",
        "print(\"\\n=== Resumen del DataFrame ===\")\n",
        "display(df.info())\n",
        "\n",
        "print(\"\\n=== Estadísticas descriptivas ===\")\n",
        "display(df.describe())\n",
        "\n",
        "print(\"\\n=== Valores nulos por columna ===\")\n",
        "display(df.isnull().sum())\n",
        "\n",
        "total_duplicados = df.duplicated().sum()\n",
        "print(f\"\\nCantidad de filas duplicadas: {total_duplicados}\")\n",
        "\n",
        "# ===== 4. Manejo de nulos en 'Edad' =====\n",
        "# Escenario 1: eliminar filas sin edad\n",
        "df_eliminar = df.dropna(subset=['Edad'])\n",
        "promedio_eliminar = df_eliminar['Edad'].mean()\n",
        "filas_afectadas_eliminar = df['Edad'].isnull().sum()\n",
        "\n",
        "# Escenario 2: reemplazar nulos con media\n",
        "edad_media = df['Edad'].mean()\n",
        "df_reemplazar = df.copy()\n",
        "df_reemplazar['Edad'].fillna(edad_media, inplace=True)\n",
        "promedio_reemplazar = df_reemplazar['Edad'].mean()\n",
        "filas_afectadas_reemplazar = df['Edad'].isnull().sum()\n",
        "\n",
        "# ===== 5. Crear reporte comparativo =====\n",
        "reporte_comparativo = pd.DataFrame({\n",
        "    \"Escenario\": [\"Eliminar filas sin edad\", \"Reemplazar nulos con media\"],\n",
        "    \"Cantidad de filas\": [df_eliminar.shape[0], df_reemplazar.shape[0]],\n",
        "    \"Filas afectadas (nulos)\": [filas_afectadas_eliminar, filas_afectadas_reemplazar],\n",
        "    \"Promedio de edad\": [promedio_eliminar, promedio_reemplazar]\n",
        "})\n",
        "\n",
        "print(\"\\n=== Reporte comparativo de impacto ===\")\n",
        "display(reporte_comparativo)\n",
        "\n",
        "# ===== 6. Guardar reporte en Excel =====\n",
        "reporte_comparativo.to_excel(\"reporte_actividad1.xlsx\", index=False)\n",
        "print(\"\\nReporte guardado como 'reporte_actividad1.xlsx'. Puedes descargarlo 🐍\")\n"
      ],
      "metadata": {
        "id": "htLZaTfBYmru"
      },
      "execution_count": null,
      "outputs": []
    },
    {
      "cell_type": "markdown",
      "source": [
        "## Actividad 2\n",
        "\n",
        "- Cargar el conjunto de datos.\n",
        "- Corregir el tipo de datos de la columna de precio a un tipo numérico.\n",
        "- Normalizar el nombre del producto para que todas las entradas estén en minúsculas y sin caracteres especiales.\n",
        "\n",
        "\n",
        "| Métrica   |  Significado                                                    | ¿Cómo se interpreta?                                                                                                                                                                                                |\n",
        "| --------- | ---------------------------------------------------------------- | --------------------------------------------------------------------------------------------------------------------------------------------------------------------------------------------------------------------------------- |\n",
        "| **count** | Cantidad de registros válidos (no nulos)                         | Todas las columnas tienen 100, porque no hay valores nulos en `Precio`.                                                                                                                                                           |\n",
        "| **mean**  | Promedio de los precios                                          | `Precio` y `Precio_float` tienen 51.55 porque son iguales. `Precio_int` baja a 51.04 porque al truncar decimales los valores bajan un poquito. `Precio_redondeado` sube a 51.57 porque algunos precios se redondean hacia arriba. |\n",
        "| **std**   | Desviación estándar: qué tan dispersos están los datos           | 26.39 en float, un poquito menos en int y redondeado, porque truncar o redondear reduce ligeramente la variabilidad.                                                                                                              |\n",
        "| **min**   | Precio mínimo                                                    | 10.14 en float, 10 en int y redondeado (porque truncar baja a 10, redondear baja a 10).                                                                                                                                           |\n",
        "| **25%**   | Primer cuartil (25% de los datos están por debajo de este valor) | Pequeñas diferencias por truncado/redondeo: 26.15 en float, 25.75 en int, 26 en redondeado.                                                                                                                                       |\n",
        "| **50%**   | Mediana (valor central)                                          | Similar, float 54.17, int 53.50, redondeado 54.50.                                                                                                                                                                                |\n",
        "| **75%**   | Tercer cuartil (75% de los datos están por debajo)               | Redondear/truncar hace que baje o suba levemente: 72.40, 71.50, 72.50.                                                                                                                                                            |\n",
        "| **max**   | Precio máximo                                                    | 99.21 en float, 99 en int y redondeado, porque los decimales se pierden al truncar y redondear.                                                                                                                                   |\n"
      ],
      "metadata": {
        "id": "0RTblfnnfM5n"
      }
    },
    {
      "cell_type": "code",
      "source": [
        "import pandas as pd\n",
        "from google.colab import files\n",
        "\n",
        "# 1️⃣ Subir archivo Excel\n",
        "uploaded = files.upload()\n",
        "nombre_archivo = list(uploaded.keys())[0]\n",
        "\n",
        "# 2️⃣ Cargar Excel en un DataFrame\n",
        "df = pd.read_excel(nombre_archivo, engine='openpyxl')\n",
        "\n",
        "# 3️⃣ Guardar columna original de precios con $\n",
        "df['Precio_original'] = df['Precio']\n",
        "\n",
        "# 4️⃣ Corregir tipo de datos de la columna 'Precio'\n",
        "df['Precio'] = df['Precio'].replace('[\\$,]', '', regex=True).astype(float)\n",
        "\n",
        "# 5️⃣ Normalizar el nombre del producto\n",
        "df['Producto'] = df['Producto'].str.lower().str.replace(r'[^a-zA-Z0-9 ]', '', regex=True)\n",
        "\n",
        "# 6️⃣ Crear nuevas columnas con distintas conversiones\n",
        "df['Precio_float'] = df['Precio']             # Ya es float\n",
        "df['Precio_int'] = df['Precio'].astype(int)   # Convertir a entero (truncando decimales)\n",
        "df['Precio_redondeado'] = df['Precio'].round().astype(int)  # Redondeo al entero más cercano\n",
        "\n",
        "# 7️⃣ Mostrar dataset final\n",
        "print(\"Dataset con columna original y nuevas conversiones:\")\n",
        "display(df.head())\n",
        "\n",
        "# 8️⃣ Generar resumen estadístico de las columnas numéricas\n",
        "print(\"Resumen estadístico de las columnas de precios:\")\n",
        "display(df[['Precio', 'Precio_float', 'Precio_int', 'Precio_redondeado']].describe())\n",
        "\n",
        "# 9️⃣ Guardar dataset final en Excel\n",
        "df.to_excel(\"productos_normalizados_conversiones.xlsx\", index=False)\n",
        "print(\"Dataset final guardado como 'productos_normalizados_conversiones.xlsx'.\")\n",
        "\n"
      ],
      "metadata": {
        "id": "qTuUyKhFfQA8"
      },
      "execution_count": null,
      "outputs": []
    }
  ]
}